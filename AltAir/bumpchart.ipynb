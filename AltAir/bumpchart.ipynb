{
 "cells": [
  {
   "cell_type": "code",
   "execution_count": 2,
   "metadata": {},
   "outputs": [],
   "source": [
    "import altair as alt\n",
    "from vega_datasets import data\n",
    "import pandas as pd"
   ]
  },
  {
   "cell_type": "code",
   "execution_count": 3,
   "metadata": {},
   "outputs": [
    {
     "name": "stdout",
     "output_type": "stream",
     "text": [
      "    symbol       date   price\n",
      "0     MSFT 2000-01-01   39.81\n",
      "1     MSFT 2000-02-01   36.35\n",
      "2     MSFT 2000-03-01   43.22\n",
      "3     MSFT 2000-04-01   28.37\n",
      "4     MSFT 2000-05-01   25.45\n",
      "..     ...        ...     ...\n",
      "555   AAPL 2009-11-01  199.91\n",
      "556   AAPL 2009-12-01  210.73\n",
      "557   AAPL 2010-01-01  192.06\n",
      "558   AAPL 2010-02-01  204.62\n",
      "559   AAPL 2010-03-01  223.02\n",
      "\n",
      "[560 rows x 3 columns]\n",
      "         date symbol       price\n",
      "0  2000-01-31   AAPL   25.940000\n",
      "1  2000-01-31   AMZN   64.560000\n",
      "2  2000-01-31    IBM  100.520000\n",
      "3  2000-01-31   MSFT   39.810000\n",
      "4  2000-07-31   AAPL   27.703333\n",
      "..        ...    ...         ...\n",
      "95 2010-07-31   AAPL  213.820000\n",
      "96 2010-07-31   AMZN  123.610000\n",
      "97 2010-07-31   GOOG  543.495000\n",
      "98 2010-07-31    IBM  126.355000\n",
      "99 2010-07-31   MSFT   28.735000\n",
      "\n",
      "[100 rows x 3 columns]\n"
     ]
    }
   ],
   "source": [
    "stocks = data.stocks()\n",
    "print(stocks)\n",
    "source = stocks.groupby([pd.Grouper(key=\"date\", freq=\"6M\"),\"symbol\"]).mean().reset_index()\n",
    "print(source)"
   ]
  },
  {
   "cell_type": "code",
   "execution_count": 11,
   "metadata": {},
   "outputs": [
    {
     "data": {
      "text/html": [
       "\n",
       "<div id=\"altair-viz-7cb1177d49254bb1868d23d01a11c523\"></div>\n",
       "<script type=\"text/javascript\">\n",
       "  var VEGA_DEBUG = (typeof VEGA_DEBUG == \"undefined\") ? {} : VEGA_DEBUG;\n",
       "  (function(spec, embedOpt){\n",
       "    let outputDiv = document.currentScript.previousElementSibling;\n",
       "    if (outputDiv.id !== \"altair-viz-7cb1177d49254bb1868d23d01a11c523\") {\n",
       "      outputDiv = document.getElementById(\"altair-viz-7cb1177d49254bb1868d23d01a11c523\");\n",
       "    }\n",
       "    const paths = {\n",
       "      \"vega\": \"https://cdn.jsdelivr.net/npm//vega@5?noext\",\n",
       "      \"vega-lib\": \"https://cdn.jsdelivr.net/npm//vega-lib?noext\",\n",
       "      \"vega-lite\": \"https://cdn.jsdelivr.net/npm//vega-lite@4.17.0?noext\",\n",
       "      \"vega-embed\": \"https://cdn.jsdelivr.net/npm//vega-embed@6?noext\",\n",
       "    };\n",
       "\n",
       "    function maybeLoadScript(lib, version) {\n",
       "      var key = `${lib.replace(\"-\", \"\")}_version`;\n",
       "      return (VEGA_DEBUG[key] == version) ?\n",
       "        Promise.resolve(paths[lib]) :\n",
       "        new Promise(function(resolve, reject) {\n",
       "          var s = document.createElement('script');\n",
       "          document.getElementsByTagName(\"head\")[0].appendChild(s);\n",
       "          s.async = true;\n",
       "          s.onload = () => {\n",
       "            VEGA_DEBUG[key] = version;\n",
       "            return resolve(paths[lib]);\n",
       "          };\n",
       "          s.onerror = () => reject(`Error loading script: ${paths[lib]}`);\n",
       "          s.src = paths[lib];\n",
       "        });\n",
       "    }\n",
       "\n",
       "    function showError(err) {\n",
       "      outputDiv.innerHTML = `<div class=\"error\" style=\"color:red;\">${err}</div>`;\n",
       "      throw err;\n",
       "    }\n",
       "\n",
       "    function displayChart(vegaEmbed) {\n",
       "      vegaEmbed(outputDiv, spec, embedOpt)\n",
       "        .catch(err => showError(`Javascript Error: ${err.message}<br>This usually means there's a typo in your chart specification. See the javascript console for the full traceback.`));\n",
       "    }\n",
       "\n",
       "    if(typeof define === \"function\" && define.amd) {\n",
       "      requirejs.config({paths});\n",
       "      require([\"vega-embed\"], displayChart, err => showError(`Error loading script: ${err.message}`));\n",
       "    } else {\n",
       "      maybeLoadScript(\"vega\", \"5\")\n",
       "        .then(() => maybeLoadScript(\"vega-lite\", \"4.17.0\"))\n",
       "        .then(() => maybeLoadScript(\"vega-embed\", \"6\"))\n",
       "        .catch(showError)\n",
       "        .then(() => displayChart(vegaEmbed));\n",
       "    }\n",
       "  })({\"config\": {\"view\": {\"continuousWidth\": 400, \"continuousHeight\": 300}}, \"data\": {\"name\": \"data-2d67bb8c5bca6bb3fa2f4195a4c04169\"}, \"mark\": {\"type\": \"line\", \"point\": true}, \"encoding\": {\"color\": {\"field\": \"symbol\", \"type\": \"nominal\"}, \"x\": {\"field\": \"date\", \"timeUnit\": \"yearmonth\", \"title\": \"date\", \"type\": \"ordinal\"}, \"y\": {\"field\": \"rank\", \"type\": \"ordinal\"}}, \"transform\": [{\"window\": [{\"op\": \"rank\", \"field\": \"\", \"as\": \"rank\"}], \"groupby\": [\"date\"], \"sort\": [{\"field\": \"price\", \"order\": \"descending\"}]}], \"$schema\": \"https://vega.github.io/schema/vega-lite/v4.17.0.json\", \"datasets\": {\"data-2d67bb8c5bca6bb3fa2f4195a4c04169\": [{\"date\": \"2000-01-31T00:00:00\", \"symbol\": \"AAPL\", \"price\": 25.94}, {\"date\": \"2000-01-31T00:00:00\", \"symbol\": \"AMZN\", \"price\": 64.56}, {\"date\": \"2000-01-31T00:00:00\", \"symbol\": \"IBM\", \"price\": 100.52}, {\"date\": \"2000-01-31T00:00:00\", \"symbol\": \"MSFT\", \"price\": 39.81}, {\"date\": \"2000-07-31T00:00:00\", \"symbol\": \"AAPL\", \"price\": 27.703333333333333}, {\"date\": \"2000-07-31T00:00:00\", \"symbol\": \"AMZN\", \"price\": 50.96666666666667}, {\"date\": \"2000-07-31T00:00:00\", \"symbol\": \"IBM\", \"price\": 98.925}, {\"date\": \"2000-07-31T00:00:00\", \"symbol\": \"MSFT\", \"price\": 32.38833333333333}, {\"date\": \"2001-01-31T00:00:00\", \"symbol\": \"AAPL\", \"price\": 13.271666666666667}, {\"date\": \"2001-01-31T00:00:00\", \"symbol\": \"AMZN\", \"price\": 29.02}, {\"date\": \"2001-01-31T00:00:00\", \"symbol\": \"IBM\", \"price\": 94.94333333333333}, {\"date\": \"2001-01-31T00:00:00\", \"symbol\": \"MSFT\", \"price\": 24.463333333333335}, {\"date\": \"2001-07-31T00:00:00\", \"symbol\": \"AAPL\", \"price\": 10.648333333333333}, {\"date\": \"2001-07-31T00:00:00\", \"symbol\": \"AMZN\", \"price\": 13.255}, {\"date\": \"2001-07-31T00:00:00\", \"symbol\": \"IBM\", \"price\": 96.39166666666667}, {\"date\": \"2001-07-31T00:00:00\", \"symbol\": \"MSFT\", \"price\": 26.429999999999996}, {\"date\": \"2002-01-31T00:00:00\", \"symbol\": \"AAPL\", \"price\": 9.961666666666666}, {\"date\": \"2002-01-31T00:00:00\", \"symbol\": \"AMZN\", \"price\": 9.703333333333333}, {\"date\": \"2002-01-31T00:00:00\", \"symbol\": \"IBM\", \"price\": 97.00833333333333}, {\"date\": \"2002-01-31T00:00:00\", \"symbol\": \"MSFT\", \"price\": 24.445000000000004}, {\"date\": \"2002-07-31T00:00:00\", \"symbol\": \"AAPL\", \"price\": 10.495}, {\"date\": \"2002-07-31T00:00:00\", \"symbol\": \"AMZN\", \"price\": 15.670000000000002}, {\"date\": \"2002-07-31T00:00:00\", \"symbol\": \"IBM\", \"price\": 76.82166666666667}, {\"date\": \"2002-07-31T00:00:00\", \"symbol\": \"MSFT\", \"price\": 22.0}, {\"date\": \"2003-01-31T00:00:00\", \"symbol\": \"AAPL\", \"price\": 7.458333333333333}, {\"date\": \"2003-01-31T00:00:00\", \"symbol\": \"AMZN\", \"price\": 19.05333333333333}, {\"date\": \"2003-01-31T00:00:00\", \"symbol\": \"IBM\", \"price\": 69.04166666666667}, {\"date\": \"2003-01-31T00:00:00\", \"symbol\": \"MSFT\", \"price\": 20.551666666666666}, {\"date\": \"2003-07-31T00:00:00\", \"symbol\": \"AAPL\", \"price\": 8.456666666666667}, {\"date\": \"2003-07-31T00:00:00\", \"symbol\": \"AMZN\", \"price\": 31.763333333333335}, {\"date\": \"2003-07-31T00:00:00\", \"symbol\": \"IBM\", \"price\": 75.05833333333334}, {\"date\": \"2003-07-31T00:00:00\", \"symbol\": \"MSFT\", \"price\": 20.425}, {\"date\": \"2004-01-31T00:00:00\", \"symbol\": \"AAPL\", \"price\": 10.921666666666667}, {\"date\": \"2004-01-31T00:00:00\", \"symbol\": \"AMZN\", \"price\": 51.028333333333336}, {\"date\": \"2004-01-31T00:00:00\", \"symbol\": \"IBM\", \"price\": 82.86333333333333}, {\"date\": \"2004-01-31T00:00:00\", \"symbol\": \"MSFT\", \"price\": 22.006666666666664}, {\"date\": \"2004-07-31T00:00:00\", \"symbol\": \"AAPL\", \"price\": 14.14}, {\"date\": \"2004-07-31T00:00:00\", \"symbol\": \"AMZN\", \"price\": 45.285}, {\"date\": \"2004-07-31T00:00:00\", \"symbol\": \"IBM\", \"price\": 82.85333333333334}, {\"date\": \"2004-07-31T00:00:00\", \"symbol\": \"MSFT\", \"price\": 22.005}, {\"date\": \"2005-01-31T00:00:00\", \"symbol\": \"AAPL\", \"price\": 27.834999999999997}, {\"date\": \"2005-01-31T00:00:00\", \"symbol\": \"AMZN\", \"price\": 40.053333333333335}, {\"date\": \"2005-01-31T00:00:00\", \"symbol\": \"GOOG\", \"price\": 165.5}, {\"date\": \"2005-01-31T00:00:00\", \"symbol\": \"IBM\", \"price\": 84.14}, {\"date\": \"2005-01-31T00:00:00\", \"symbol\": \"MSFT\", \"price\": 23.58}, {\"date\": \"2005-07-31T00:00:00\", \"symbol\": \"AAPL\", \"price\": 40.30166666666667}, {\"date\": \"2005-07-31T00:00:00\", \"symbol\": \"AMZN\", \"price\": 35.92666666666667}, {\"date\": \"2005-07-31T00:00:00\", \"symbol\": \"GOOG\", \"price\": 241.27999999999997}, {\"date\": \"2005-07-31T00:00:00\", \"symbol\": \"IBM\", \"price\": 76.30833333333334}, {\"date\": \"2005-07-31T00:00:00\", \"symbol\": \"MSFT\", \"price\": 23.176666666666666}, {\"date\": \"2006-01-31T00:00:00\", \"symbol\": \"AAPL\", \"price\": 62.218333333333334}, {\"date\": \"2006-01-31T00:00:00\", \"symbol\": \"AMZN\", \"price\": 44.715}, {\"date\": \"2006-01-31T00:00:00\", \"symbol\": \"GOOG\", \"price\": 371.1716666666667}, {\"date\": \"2006-01-31T00:00:00\", \"symbol\": \"IBM\", \"price\": 76.93666666666667}, {\"date\": \"2006-01-31T00:00:00\", \"symbol\": \"MSFT\", \"price\": 24.853333333333335}, {\"date\": \"2006-07-31T00:00:00\", \"symbol\": \"AAPL\", \"price\": 64.43333333333334}, {\"date\": \"2006-07-31T00:00:00\", \"symbol\": \"AMZN\", \"price\": 34.89333333333334}, {\"date\": \"2006-07-31T00:00:00\", \"symbol\": \"GOOG\", \"price\": 391.385}, {\"date\": \"2006-07-31T00:00:00\", \"symbol\": \"IBM\", \"price\": 74.86666666666667}, {\"date\": \"2006-07-31T00:00:00\", \"symbol\": \"MSFT\", \"price\": 23.066666666666666}, {\"date\": \"2007-01-31T00:00:00\", \"symbol\": \"AAPL\", \"price\": 81.35666666666667}, {\"date\": \"2007-01-31T00:00:00\", \"symbol\": \"AMZN\", \"price\": 36.41833333333333}, {\"date\": \"2007-01-31T00:00:00\", \"symbol\": \"GOOG\", \"price\": 450.6016666666667}, {\"date\": \"2007-01-31T00:00:00\", \"symbol\": \"IBM\", \"price\": 85.55166666666668}, {\"date\": \"2007-01-31T00:00:00\", \"symbol\": \"MSFT\", \"price\": 26.938333333333333}, {\"date\": \"2007-07-31T00:00:00\", \"symbol\": \"AAPL\", \"price\": 108.71833333333332}, {\"date\": \"2007-07-31T00:00:00\", \"symbol\": \"AMZN\", \"price\": 59.39166666666667}, {\"date\": \"2007-07-31T00:00:00\", \"symbol\": \"GOOG\", \"price\": 484.9333333333334}, {\"date\": \"2007-07-31T00:00:00\", \"symbol\": \"IBM\", \"price\": 96.96499999999999}, {\"date\": \"2007-07-31T00:00:00\", \"symbol\": \"MSFT\", \"price\": 27.64}, {\"date\": \"2008-01-31T00:00:00\", \"symbol\": \"AAPL\", \"price\": 166.26}, {\"date\": \"2008-01-31T00:00:00\", \"symbol\": \"AMZN\", \"price\": 87.185}, {\"date\": \"2008-01-31T00:00:00\", \"symbol\": \"GOOG\", \"price\": 623.0500000000001}, {\"date\": \"2008-01-31T00:00:00\", \"symbol\": \"IBM\", \"price\": 107.08166666666666}, {\"date\": \"2008-01-31T00:00:00\", \"symbol\": \"MSFT\", \"price\": 31.271666666666665}, {\"date\": \"2008-07-31T00:00:00\", \"symbol\": \"AAPL\", \"price\": 159.60166666666666}, {\"date\": \"2008-07-31T00:00:00\", \"symbol\": \"AMZN\", \"price\": 74.28166666666667}, {\"date\": \"2008-07-31T00:00:00\", \"symbol\": \"GOOG\", \"price\": 511.98499999999996}, {\"date\": \"2008-07-31T00:00:00\", \"symbol\": \"IBM\", \"price\": 116.70333333333333}, {\"date\": \"2008-07-31T00:00:00\", \"symbol\": \"MSFT\", \"price\": 26.515}, {\"date\": \"2009-01-31T00:00:00\", \"symbol\": \"AAPL\", \"price\": 109.82166666666666}, {\"date\": \"2009-01-31T00:00:00\", \"symbol\": \"AMZN\", \"price\": 60.60166666666667}, {\"date\": \"2009-01-31T00:00:00\", \"symbol\": \"GOOG\", \"price\": 360.385}, {\"date\": \"2009-01-31T00:00:00\", \"symbol\": \"IBM\", \"price\": 95.53166666666668}, {\"date\": \"2009-01-31T00:00:00\", \"symbol\": \"MSFT\", \"price\": 21.485}, {\"date\": \"2009-07-31T00:00:00\", \"symbol\": \"AAPL\", \"price\": 126.98166666666667}, {\"date\": \"2009-07-31T00:00:00\", \"symbol\": \"AMZN\", \"price\": 77.69333333333333}, {\"date\": \"2009-07-31T00:00:00\", \"symbol\": \"GOOG\", \"price\": 393.9816666666666}, {\"date\": \"2009-07-31T00:00:00\", \"symbol\": \"IBM\", \"price\": 101.81666666666666}, {\"date\": \"2009-07-31T00:00:00\", \"symbol\": \"MSFT\", \"price\": 20.138333333333332}, {\"date\": \"2010-01-31T00:00:00\", \"symbol\": \"AAPL\", \"price\": 190.79333333333332}, {\"date\": \"2010-01-31T00:00:00\", \"symbol\": \"AMZN\", \"price\": 114.86666666666667}, {\"date\": \"2010-01-31T00:00:00\", \"symbol\": \"GOOG\", \"price\": 537.7600000000001}, {\"date\": \"2010-01-31T00:00:00\", \"symbol\": \"IBM\", \"price\": 122.175}, {\"date\": \"2010-01-31T00:00:00\", \"symbol\": \"MSFT\", \"price\": 27.51}, {\"date\": \"2010-07-31T00:00:00\", \"symbol\": \"AAPL\", \"price\": 213.82}, {\"date\": \"2010-07-31T00:00:00\", \"symbol\": \"AMZN\", \"price\": 123.61}, {\"date\": \"2010-07-31T00:00:00\", \"symbol\": \"GOOG\", \"price\": 543.495}, {\"date\": \"2010-07-31T00:00:00\", \"symbol\": \"IBM\", \"price\": 126.35499999999999}, {\"date\": \"2010-07-31T00:00:00\", \"symbol\": \"MSFT\", \"price\": 28.735}]}}, {\"mode\": \"vega-lite\"});\n",
       "</script>"
      ],
      "text/plain": [
       "alt.Chart(...)"
      ]
     },
     "execution_count": 11,
     "metadata": {},
     "output_type": "execute_result"
    }
   ],
   "source": [
    "alt.Chart(source).mark_line(point = True).encode(\n",
    "    x = alt.X(\"date:O\", timeUnit=\"yearmonth\", title=\"date\"),\n",
    "    y=\"rank:O\",\n",
    "    color=alt.Color(\"symbol:N\")\n",
    ").transform_window(\n",
    "    rank=\"rank()\",\n",
    "    sort=[alt.SortField(\"price\", order=\"descending\")],\n",
    "    groupby=[\"date\"]\n",
    ")"
   ]
  }
 ],
 "metadata": {
  "interpreter": {
   "hash": "aa345477b7d60341d30bad782cc4ba72e2005a4dd5ecc09cf2ac942611b84fb1"
  },
  "kernelspec": {
   "display_name": "Python 3.8.9 ('LeraningWorkspace-VRBI3hsz')",
   "language": "python",
   "name": "python3"
  },
  "language_info": {
   "codemirror_mode": {
    "name": "ipython",
    "version": 3
   },
   "file_extension": ".py",
   "mimetype": "text/x-python",
   "name": "python",
   "nbconvert_exporter": "python",
   "pygments_lexer": "ipython3",
   "version": "3.8.12"
  },
  "orig_nbformat": 4
 },
 "nbformat": 4,
 "nbformat_minor": 2
}
