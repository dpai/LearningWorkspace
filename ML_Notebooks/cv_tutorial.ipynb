{
 "cells": [
  {
   "attachments": {},
   "cell_type": "markdown",
   "metadata": {},
   "source": [
    "https://youtu.be/-8s9KuNo5SA\n",
    "\n",
    "https://www.kaggle.com/code/robikscube/cross-validation-visualized-youtube-tutorial/notebook"
   ]
  },
  {
   "cell_type": "code",
   "execution_count": 3,
   "metadata": {},
   "outputs": [],
   "source": [
    "import pandas as pd\n",
    "import numpy as np\n",
    "\n",
    "import matplotlib.pyplot as plt\n",
    "import lightgbm as lgb\n",
    "from sklearn.metrics import accuracy_score, roc_auc_score\n",
    "from sklearn.model_selection import (\n",
    "    train_test_split,\n",
    "    TimeSeriesSplit,\n",
    "    KFold,\n",
    "    StratifiedGroupKFold,\n",
    "    GroupKFold,\n",
    "    StratifiedKFold\n",
    ")"
   ]
  },
  {
   "cell_type": "code",
   "execution_count": 5,
   "metadata": {},
   "outputs": [],
   "source": [
    "def get_prep_data():\n",
    "    data = pd.read_csv(\n",
    "        \"healthcare-dataset-stroke-data.csv\"\n",
    "    )\n",
    "    data[\"ever_married\"] = (\n",
    "        data[\"ever_married\"].replace(\"Yes\", True).replace(\"No\", False)\n",
    "    )\n",
    "    data[\"gender\"] = data[\"gender\"].astype(\"category\")\n",
    "    data[\"smoking_status\"] = data[\"smoking_status\"].astype(\"category\")\n",
    "    data[\"Residence_type\"] = data[\"Residence_type\"].astype(\"category\")\n",
    "    data[\"work_type\"] = data[\"work_type\"].astype(\"category\")\n",
    "    data[\"doctor\"] = np.random.randint(0, 8, size=len(data))\n",
    "    holdout_ids = data.sample(n=500, random_state=529).index\n",
    "\n",
    "    train = (\n",
    "        data.loc[~data.index.isin(holdout_ids)]\n",
    "        .sample(frac=1, random_state=529)\n",
    "        .sort_values(\"doctor\")\n",
    "        .reset_index(drop=True)\n",
    "    )\n",
    "    holdout = (\n",
    "        data.loc[data.index.isin(holdout_ids)]\n",
    "        .sample(frac=1, random_state=529)\n",
    "        .sort_values(\"doctor\")\n",
    "        .reset_index(drop=True)\n",
    "    )\n",
    "\n",
    "    return train, holdout\n",
    "\n",
    "\n",
    "train, holdout = get_prep_data()"
   ]
  },
  {
   "cell_type": "code",
   "execution_count": 6,
   "metadata": {},
   "outputs": [
    {
     "data": {
      "text/html": [
       "<div>\n",
       "<style scoped>\n",
       "    .dataframe tbody tr th:only-of-type {\n",
       "        vertical-align: middle;\n",
       "    }\n",
       "\n",
       "    .dataframe tbody tr th {\n",
       "        vertical-align: top;\n",
       "    }\n",
       "\n",
       "    .dataframe thead th {\n",
       "        text-align: right;\n",
       "    }\n",
       "</style>\n",
       "<table border=\"1\" class=\"dataframe\">\n",
       "  <thead>\n",
       "    <tr style=\"text-align: right;\">\n",
       "      <th></th>\n",
       "      <th>id</th>\n",
       "      <th>gender</th>\n",
       "      <th>age</th>\n",
       "      <th>hypertension</th>\n",
       "      <th>heart_disease</th>\n",
       "      <th>ever_married</th>\n",
       "      <th>work_type</th>\n",
       "      <th>Residence_type</th>\n",
       "      <th>avg_glucose_level</th>\n",
       "      <th>bmi</th>\n",
       "      <th>smoking_status</th>\n",
       "      <th>stroke</th>\n",
       "      <th>doctor</th>\n",
       "    </tr>\n",
       "  </thead>\n",
       "  <tbody>\n",
       "    <tr>\n",
       "      <th>0</th>\n",
       "      <td>37320</td>\n",
       "      <td>Female</td>\n",
       "      <td>77.0</td>\n",
       "      <td>0</td>\n",
       "      <td>0</td>\n",
       "      <td>True</td>\n",
       "      <td>Private</td>\n",
       "      <td>Rural</td>\n",
       "      <td>80.85</td>\n",
       "      <td>19.4</td>\n",
       "      <td>Unknown</td>\n",
       "      <td>0</td>\n",
       "      <td>0</td>\n",
       "    </tr>\n",
       "    <tr>\n",
       "      <th>1</th>\n",
       "      <td>59729</td>\n",
       "      <td>Male</td>\n",
       "      <td>53.0</td>\n",
       "      <td>0</td>\n",
       "      <td>0</td>\n",
       "      <td>True</td>\n",
       "      <td>Private</td>\n",
       "      <td>Urban</td>\n",
       "      <td>211.03</td>\n",
       "      <td>34.2</td>\n",
       "      <td>formerly smoked</td>\n",
       "      <td>0</td>\n",
       "      <td>0</td>\n",
       "    </tr>\n",
       "    <tr>\n",
       "      <th>2</th>\n",
       "      <td>42041</td>\n",
       "      <td>Female</td>\n",
       "      <td>38.0</td>\n",
       "      <td>0</td>\n",
       "      <td>0</td>\n",
       "      <td>True</td>\n",
       "      <td>Private</td>\n",
       "      <td>Rural</td>\n",
       "      <td>217.55</td>\n",
       "      <td>NaN</td>\n",
       "      <td>smokes</td>\n",
       "      <td>0</td>\n",
       "      <td>0</td>\n",
       "    </tr>\n",
       "    <tr>\n",
       "      <th>3</th>\n",
       "      <td>54805</td>\n",
       "      <td>Female</td>\n",
       "      <td>27.0</td>\n",
       "      <td>0</td>\n",
       "      <td>0</td>\n",
       "      <td>False</td>\n",
       "      <td>Self-employed</td>\n",
       "      <td>Urban</td>\n",
       "      <td>73.65</td>\n",
       "      <td>24.8</td>\n",
       "      <td>Unknown</td>\n",
       "      <td>0</td>\n",
       "      <td>0</td>\n",
       "    </tr>\n",
       "    <tr>\n",
       "      <th>4</th>\n",
       "      <td>59054</td>\n",
       "      <td>Male</td>\n",
       "      <td>17.0</td>\n",
       "      <td>0</td>\n",
       "      <td>0</td>\n",
       "      <td>False</td>\n",
       "      <td>Private</td>\n",
       "      <td>Rural</td>\n",
       "      <td>77.79</td>\n",
       "      <td>23.6</td>\n",
       "      <td>Unknown</td>\n",
       "      <td>0</td>\n",
       "      <td>0</td>\n",
       "    </tr>\n",
       "  </tbody>\n",
       "</table>\n",
       "</div>"
      ],
      "text/plain": [
       "      id  gender   age  hypertension  heart_disease  ever_married  \\\n",
       "0  37320  Female  77.0             0              0          True   \n",
       "1  59729    Male  53.0             0              0          True   \n",
       "2  42041  Female  38.0             0              0          True   \n",
       "3  54805  Female  27.0             0              0         False   \n",
       "4  59054    Male  17.0             0              0         False   \n",
       "\n",
       "       work_type Residence_type  avg_glucose_level   bmi   smoking_status  \\\n",
       "0        Private          Rural              80.85  19.4          Unknown   \n",
       "1        Private          Urban             211.03  34.2  formerly smoked   \n",
       "2        Private          Rural             217.55   NaN           smokes   \n",
       "3  Self-employed          Urban              73.65  24.8          Unknown   \n",
       "4        Private          Rural              77.79  23.6          Unknown   \n",
       "\n",
       "   stroke  doctor  \n",
       "0       0       0  \n",
       "1       0       0  \n",
       "2       0       0  \n",
       "3       0       0  \n",
       "4       0       0  "
      ]
     },
     "execution_count": 6,
     "metadata": {},
     "output_type": "execute_result"
    }
   ],
   "source": [
    "train.head()"
   ]
  },
  {
   "cell_type": "code",
   "execution_count": 8,
   "metadata": {},
   "outputs": [
    {
     "data": {
      "text/plain": [
       "Index(['id', 'gender', 'age', 'hypertension', 'heart_disease', 'ever_married',\n",
       "       'work_type', 'Residence_type', 'avg_glucose_level', 'bmi',\n",
       "       'smoking_status', 'stroke', 'doctor'],\n",
       "      dtype='object')"
      ]
     },
     "execution_count": 8,
     "metadata": {},
     "output_type": "execute_result"
    }
   ],
   "source": [
    "train.columns"
   ]
  },
  {
   "cell_type": "code",
   "execution_count": 9,
   "metadata": {},
   "outputs": [],
   "source": [
    "def get_X_y(train):\n",
    "    FEATURES = [\n",
    "        \"gender\",\n",
    "        \"age\",\n",
    "        \"hypertension\",\n",
    "        \"heart_disease\",\n",
    "        \"ever_married\",\n",
    "        \"work_type\",\n",
    "        \"Residence_type\",\n",
    "        \"avg_glucose_level\",\n",
    "        \"bmi\",\n",
    "        \"smoking_status\",\n",
    "    ]\n",
    "\n",
    "    GROUPS = \"doctor\"\n",
    "\n",
    "    TARGET = \"stroke\"\n",
    "\n",
    "    X = train[FEATURES]\n",
    "    y = train[TARGET]\n",
    "    groups = train[GROUPS]\n",
    "    return X, y, groups"
   ]
  },
  {
   "cell_type": "code",
   "execution_count": 23,
   "metadata": {},
   "outputs": [],
   "source": [
    "X, y, groups = get_X_y(train)\n",
    "clf = lgb.LGBMClassifier(n_estimators=100)\n",
    "clf.fit(X,y)\n",
    "\n",
    "pred = clf.predict(X)\n",
    "pred_proba = clf.predict_proba(X)[:, 1]"
   ]
  },
  {
   "cell_type": "code",
   "execution_count": 24,
   "metadata": {},
   "outputs": [
    {
     "data": {
      "text/plain": [
       "array([4.52795827e-02, 1.72018573e-03, 1.19125736e-02, ...,\n",
       "       1.73443478e-02, 4.96537653e-02, 4.09043401e-05])"
      ]
     },
     "execution_count": 24,
     "metadata": {},
     "output_type": "execute_result"
    }
   ],
   "source": [
    "pred_proba"
   ]
  },
  {
   "cell_type": "code",
   "execution_count": 25,
   "metadata": {},
   "outputs": [
    {
     "name": "stdout",
     "output_type": "stream",
     "text": [
      "0.9911062906724512  0.9997403662063107\n"
     ]
    }
   ],
   "source": [
    "acc_score = accuracy_score(y, pred)\n",
    "auc_score = roc_auc_score(y, pred_proba)\n",
    "print(f'{acc_score}  {auc_score}')"
   ]
  },
  {
   "cell_type": "code",
   "execution_count": 26,
   "metadata": {},
   "outputs": [
    {
     "name": "stdout",
     "output_type": "stream",
     "text": [
      "0.938  0.7801850048685491\n"
     ]
    }
   ],
   "source": [
    "x_holdout, y_holdout, group_holdout = get_X_y(holdout)\n",
    "\n",
    "pred = clf.predict(x_holdout)\n",
    "pred_proba = clf.predict_proba(x_holdout)[:, 1]\n",
    "acc_score = accuracy_score(y_holdout, pred)\n",
    "auc_score = roc_auc_score(y_holdout, pred_proba)\n",
    "print(f'{acc_score}  {auc_score}')"
   ]
  },
  {
   "attachments": {},
   "cell_type": "markdown",
   "metadata": {},
   "source": [
    "Validation"
   ]
  },
  {
   "cell_type": "code",
   "execution_count": 28,
   "metadata": {},
   "outputs": [
    {
     "name": "stdout",
     "output_type": "stream",
     "text": [
      "0.9479392624728851  0.9595728451563692\n"
     ]
    }
   ],
   "source": [
    "X, y, groups = get_X_y(train)\n",
    "\n",
    "x_tr, X_val, y_tr, y_val = train_test_split(X, y, test_size=0.1)\n",
    "clf = lgb.LGBMClassifier(n_estimators=100, max_depth=3)\n",
    "clf.fit(X,y)\n",
    "pred = clf.predict(X_val)\n",
    "pred_proba = clf.predict_proba(X_val)[:, 1]\n",
    "acc_score = accuracy_score(y_val, pred)\n",
    "auc_score = roc_auc_score(y_val, pred_proba)\n",
    "print(f'{acc_score}  {auc_score}')"
   ]
  },
  {
   "attachments": {},
   "cell_type": "markdown",
   "metadata": {},
   "source": [
    "Cross Validation"
   ]
  },
  {
   "cell_type": "code",
   "execution_count": 29,
   "metadata": {},
   "outputs": [
    {
     "name": "stdout",
     "output_type": "stream",
     "text": [
      "0.9885764499121266  0.9999819615058535\n",
      "0.9914383561643836  0.9991815476190476\n",
      "0.990990990990991  1.0\n",
      "0.9922945205479452  0.999477252307441\n",
      "0.992274678111588  0.9996648613866694\n"
     ]
    }
   ],
   "source": [
    "sgk = StratifiedGroupKFold(n_splits=5, shuffle=True, random_state=529)\n",
    "X, y, groups = get_X_y(train)\n",
    "\n",
    "for train_idx, val_idx in sgk.split(X, y, groups):\n",
    "    X_tr = X.loc[train_idx]\n",
    "    y_tr = y.loc[train_idx]\n",
    "\n",
    "    X_val = X.loc[val_idx]\n",
    "    y_val = y.loc[val_idx]\n",
    "\n",
    "    clf = lgb.LGBMClassifier(n_estimators=100)\n",
    "    clf.fit(X,y)\n",
    "    pred = clf.predict(X_val)\n",
    "    pred_proba = clf.predict_proba(X_val)[:, 1]\n",
    "    acc_score = accuracy_score(y_val, pred)\n",
    "    auc_score = roc_auc_score(y_val, pred_proba)\n",
    "    print(f'{acc_score}  {auc_score}')\n"
   ]
  },
  {
   "cell_type": "code",
   "execution_count": null,
   "metadata": {},
   "outputs": [],
   "source": []
  }
 ],
 "metadata": {
  "kernelspec": {
   "display_name": "LeraningWorkspace-sKozbfXX",
   "language": "python",
   "name": "python3"
  },
  "language_info": {
   "codemirror_mode": {
    "name": "ipython",
    "version": 3
   },
   "file_extension": ".py",
   "mimetype": "text/x-python",
   "name": "python",
   "nbconvert_exporter": "python",
   "pygments_lexer": "ipython3",
   "version": "3.8.5"
  },
  "orig_nbformat": 4,
  "vscode": {
   "interpreter": {
    "hash": "8bdd79e1b1c69c23cf35147b2ce33e746482c78d74dbefb69aab01d43c5a85f0"
   }
  }
 },
 "nbformat": 4,
 "nbformat_minor": 2
}
