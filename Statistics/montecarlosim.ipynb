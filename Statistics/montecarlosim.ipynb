{
 "cells": [
  {
   "cell_type": "markdown",
   "metadata": {},
   "source": [
    "## Monte Carlo Simulation and the Likelihood Distribution"
   ]
  },
  {
   "cell_type": "code",
   "execution_count": 1,
   "metadata": {},
   "outputs": [],
   "source": [
    "import random\n",
    "import math\n",
    "import numpy as np\n",
    "import pandas as pd\n",
    "import matplotlib.pyplot as plt\n",
    "%matplotlib inline"
   ]
  },
  {
   "cell_type": "code",
   "execution_count": 2,
   "metadata": {},
   "outputs": [
    {
     "data": {
      "text/plain": [
       "array([ 4.41, 16.81, 37.21])"
      ]
     },
     "execution_count": 2,
     "metadata": {},
     "output_type": "execute_result"
    }
   ],
   "source": [
    "l = [2.1,4.1,6.1]\n",
    "np.power(l,2)"
   ]
  },
  {
   "cell_type": "markdown",
   "metadata": {},
   "source": [
    "#### First lets start with a coin flips."
   ]
  },
  {
   "cell_type": "markdown",
   "metadata": {},
   "source": [
    "The below method should simulate coin flips with a probability of heads given by p"
   ]
  },
  {
   "cell_type": "code",
   "execution_count": 3,
   "metadata": {},
   "outputs": [],
   "source": [
    "def coinflip(p=0.5):\n",
    "    value = random.random()\n",
    "    return value <= p"
   ]
  },
  {
   "cell_type": "markdown",
   "metadata": {},
   "source": [
    "Flip coin 5 times"
   ]
  },
  {
   "cell_type": "code",
   "execution_count": 4,
   "metadata": {},
   "outputs": [
    {
     "name": "stdout",
     "output_type": "stream",
     "text": [
      "Coin flipped and came up Tails\n",
      "Coin flipped and came up Heads\n",
      "Coin flipped and came up Heads\n",
      "Coin flipped and came up Heads\n",
      "Coin flipped and came up Heads\n"
     ]
    }
   ],
   "source": [
    "flip_value = {0: 'Tails', 1: 'Heads'}\n",
    "for i in range(5):\n",
    "    print(f\"Coin flipped and came up {flip_value[coinflip()]}\")"
   ]
  },
  {
   "cell_type": "markdown",
   "metadata": {},
   "source": [
    "For a fair coin, when we flip a coin many times, the probability of coming up heads or tails is the same. We can plot this distribution as shown below."
   ]
  },
  {
   "cell_type": "code",
   "execution_count": 40,
   "metadata": {},
   "outputs": [],
   "source": [
    "def plotdistribution(data, x_pos):\n",
    "    fig, ax = plt.subplots()\n",
    "    freqs = np.bincount(data)\n",
    "    x_range = np.arange(len(x_pos))\n",
    "\n",
    "    if len(freqs) < len(x_range):\n",
    "        sz = len(x_range) - len(freqs)\n",
    "        freqs = np.append(freqs, [0]*sz)\n",
    "\n",
    "    ax.bar(x_range, freqs, align='center', alpha=0.5)\n",
    "    ax.set_ylabel('Outcomes')\n",
    "    ax.set_xticks(x_range)\n",
    "    ax.set_xticklabels(x_pos)\n",
    "    ax.set_title('Outcome Distribution')\n",
    "    ax.yaxis.grid(True)\n",
    "\n",
    "    # Save the figure and show\n",
    "    plt.tight_layout()\n",
    "    #plt.savefig('bar_plot.png')\n",
    "    plt.show()"
   ]
  },
  {
   "cell_type": "markdown",
   "metadata": {},
   "source": [
    "We know that for a fair coin the probability for each outcome is 0.5. But if we do not know if the coin is fair or not, we can just flip the coin lots of times. The resulting distribution of observations will give a good estimate of the probability of the coin as shown below. This is essentially Monte Carlo Simulation."
   ]
  },
  {
   "cell_type": "code",
   "execution_count": 7,
   "metadata": {},
   "outputs": [
    {
     "data": {
      "image/png": "[encoded data removed]",
      "text/plain": [
       "<Figure size 432x288 with 1 Axes>"
      ]
     },
     "metadata": {
      "needs_background": "light"
     },
     "output_type": "display_data"
    }
   ],
   "source": [
    "coin_flip_data = np.asarray([coinflip() for x in range(1000)])\n",
    "plotdistribution(coin_flip_data, ['Tails', 'Heads'])\n"
   ]
  },
  {
   "cell_type": "markdown",
   "metadata": {},
   "source": [
    "Above we plotted the distribution for a fair coin. We can similarly plot outcomes for a loaded coin.\n",
    "For example, for p= 0.3, the outcome distrubiton looks as shown below"
   ]
  },
  {
   "cell_type": "code",
   "execution_count": 8,
   "metadata": {},
   "outputs": [
    {
     "data": {
      "image/png": "[encoded data removed]",
      "text/plain": [
       "<Figure size 432x288 with 1 Axes>"
      ]
     },
     "metadata": {
      "needs_background": "light"
     },
     "output_type": "display_data"
    }
   ],
   "source": [
    "coin_flip_data_1 = np.asarray([coinflip(p=0.3) for x in range(1000)])\n",
    "plotdistribution(coin_flip_data_1, ['Tails', 'Heads'])"
   ]
  },
  {
   "cell_type": "markdown",
   "metadata": {},
   "source": [
    "For p=0.7, the outcome distribution looks like this"
   ]
  },
  {
   "cell_type": "code",
   "execution_count": 9,
   "metadata": {},
   "outputs": [
    {
     "data": {
      "image/png": "[encoded data removed]",
      "text/plain": [
       "<Figure size 432x288 with 1 Axes>"
      ]
     },
     "metadata": {
      "needs_background": "light"
     },
     "output_type": "display_data"
    }
   ],
   "source": [
    "coin_flip_data_2 = np.asarray([coinflip(p=0.7) for x in range(1000)])\n",
    "plotdistribution(coin_flip_data_2, ['Tails', 'Heads'])"
   ]
  },
  {
   "cell_type": "markdown",
   "metadata": {},
   "source": [
    "### Joint Probability Distribution"
   ]
  },
  {
   "cell_type": "markdown",
   "metadata": {},
   "source": [
    "Now if instead of flipping 1 coin, we want to find the probability distribution of 2 coin flips. In that case there are 4 possible outcomes. For a fair coin the outcome distribution will be the joint probability of the 2 coin tosses. The truth table and the associated probability of the outcome is shown below. The probability distribution for p = 0.3 and p = 0.7 is also given."
   ]
  },
  {
   "cell_type": "markdown",
   "metadata": {},
   "source": [
    "| Flip 1  | Flip 2 | p = 0.5         | p = 0.3         | p = 0.7       |\n",
    "|:--------|:-------|:----------------|:----------------|:--------------|\n",
    "| 0       | 0      | 0.5*0.5 = 0.25  | 0.7*0.7 = 0.49  | 0.3*0.3 = 0.18|\n",
    "| 0       | 1      | 0.5*0.5 = 0.25  | 0.7*0.3 = 0.21  | 0.3*0.7 = 0.21|\n",
    "| 1       | 0      | 0.5*0.5 = 0.25  | 0.3*0.7 = 0.21  | 0.7*0.3 = 0.21|\n",
    "| 1       | 1      | 0.5*0.5 = 0.25  | 0.3*0.3 = 0.18  | 0.7*0.7 = 0.49|"
   ]
  },
  {
   "cell_type": "markdown",
   "metadata": {},
   "source": [
    "As with the single coin flip, we will use the Monte Carlo simulation to generate the outcome distributions. We sum the values coming from the 2 random flips, and record the frequency of all possible sums."
   ]
  },
  {
   "cell_type": "code",
   "execution_count": 24,
   "metadata": {},
   "outputs": [],
   "source": [
    "def coin_flip_sets(num_coin_flips=2, p=0.5, nSamples=100):\n",
    "    result = np.zeros(shape=(nSamples, num_coin_flips))\n",
    "    for s in np.arange(nSamples):\n",
    "        result[s] = [coinflip(p) for x in range(num_coin_flips)]\n",
    "\n",
    "    return result"
   ]
  },
  {
   "cell_type": "markdown",
   "metadata": {},
   "source": [
    "Outcome Distribution for 2 coin flips of a fair coin"
   ]
  },
  {
   "cell_type": "code",
   "execution_count": 20,
   "metadata": {},
   "outputs": [
    {
     "data": {
      "image/png": "[encoded data removed]",
      "text/plain": [
       "<Figure size 432x288 with 1 Axes>"
      ]
     },
     "metadata": {
      "needs_background": "light"
     },
     "output_type": "display_data"
    }
   ],
   "source": [
    "joint_two_flip = coin_flip_sets(nSamples=1000)\n",
    "plotdistribution(np.sum(joint_two_flip, axis=1, dtype=np.int64), np.arange(3))"
   ]
  },
  {
   "cell_type": "markdown",
   "metadata": {},
   "source": [
    "Now, we can calculate joint probability of more than 2 coin flips. Below we find the distribution for 30 coin flips with 10000 sample. As can be seen that it is converging to a normal distribution. This is the basis for central limit theorem."
   ]
  },
  {
   "cell_type": "code",
   "execution_count": 45,
   "metadata": {},
   "outputs": [
    {
     "data": {
      "image/png": "[encoded data removed]",
      "text/plain": [
       "<Figure size 432x288 with 1 Axes>"
      ]
     },
     "metadata": {
      "needs_background": "light"
     },
     "output_type": "display_data"
    }
   ],
   "source": [
    "joint_thirty_flip = coin_flip_sets(num_coin_flips=30, nSamples=10000)\n",
    "plotdistribution(np.sum(joint_thirty_flip, axis=1, dtype=np.int64), np.arange(31))"
   ]
  },
  {
   "cell_type": "markdown",
   "metadata": {},
   "source": [
    "Similarly, we visualize the distribution for p = 0.3,"
   ]
  },
  {
   "cell_type": "code",
   "execution_count": 46,
   "metadata": {},
   "outputs": [
    {
     "data": {
      "image/png": "[encoded data removed]",
      "text/plain": [
       "<Figure size 432x288 with 1 Axes>"
      ]
     },
     "metadata": {
      "needs_background": "light"
     },
     "output_type": "display_data"
    }
   ],
   "source": [
    "joint_thirty_1_flip = coin_flip_sets(num_coin_flips=30, p = 0.3, nSamples=10000)\n",
    "plotdistribution(np.sum(joint_thirty_1_flip, axis=1, dtype=np.int64), np.arange(31))"
   ]
  },
  {
   "cell_type": "markdown",
   "metadata": {},
   "source": [
    "and p = 0.7"
   ]
  },
  {
   "cell_type": "code",
   "execution_count": 47,
   "metadata": {},
   "outputs": [
    {
     "data": {
      "image/png": "[encoded data removed]",
      "text/plain": [
       "<Figure size 432x288 with 1 Axes>"
      ]
     },
     "metadata": {
      "needs_background": "light"
     },
     "output_type": "display_data"
    }
   ],
   "source": [
    "joint_thirty_2_flip = coin_flip_sets(num_coin_flips=30, p = 0.7, nSamples=10000)\n",
    "plotdistribution(np.sum(joint_thirty_2_flip, axis=1, dtype=np.int64), np.arange(31))"
   ]
  },
  {
   "cell_type": "markdown",
   "metadata": {},
   "source": [
    "Here I given the number of trials just retrieve the likelihood distribution"
   ]
  },
  {
   "cell_type": "code",
   "execution_count": 5,
   "metadata": {},
   "outputs": [],
   "source": [
    "def likelihood(nTrials, nSuccess, resolution=100):\n",
    "    '''\n",
    "        nTrials is the number of experiments (e.g. number of coin flips)\n",
    "        nSuccess is the number of success (e.g. number of heads in nTrials)\n",
    "        returns a likelihood distribution - a dataframe of values for p -> [0,1], where p is the probability of success. \n",
    "    '''\n",
    "\n",
    "    if nSuccess > nTrials:\n",
    "        return \"Wrong Input\"\n",
    "\n",
    "    p_range = np.linspace(0, 1, resolution)\n",
    "    event_probability = np.multiply(np.power(p_range, nSuccess), np.power((1-p_range), nTrials-nSuccess))\n",
    "    denom = math.factorial(nTrials-nSuccess)*math.factorial(nSuccess)\n",
    "    number_of_outcomes = math.factorial(nTrials)/denom\n",
    "    l = np.multiply(event_probability,number_of_outcomes)\n",
    "    return pd.DataFrame({'p':p_range, 'likelihood': l})"
   ]
  },
  {
   "cell_type": "markdown",
   "metadata": {},
   "source": [
    "Plot the likelihood distribution"
   ]
  },
  {
   "cell_type": "code",
   "execution_count": 6,
   "metadata": {},
   "outputs": [
    {
     "data": {
      "text/plain": [
       "<AxesSubplot:xlabel='p'>"
      ]
     },
     "execution_count": 6,
     "metadata": {},
     "output_type": "execute_result"
    },
    {
     "data": {
      "image/png": "[encoded data removed]",
      "text/plain": [
       "<Figure size 432x288 with 1 Axes>"
      ]
     },
     "metadata": {
      "needs_background": "light"
     },
     "output_type": "display_data"
    }
   ],
   "source": [
    "lik_dist = likelihood(20,18, resolution=100)\n",
    "#print(lik_dist)\n",
    "lik_dist.plot(x ='p', y='likelihood', kind = 'line')"
   ]
  }
 ],
 "metadata": {
  "interpreter": {
   "hash": "21e3188f1d0ae852f8995cdbe1a54ed8660e1a0af38b695474eedb5b27d2bb2d"
  },
  "kernelspec": {
   "display_name": "Python 3.8.5 64-bit ('LeraningWorkspace-sKozbfXX': pipenv)",
   "language": "python",
   "name": "python3"
  },
  "language_info": {
   "codemirror_mode": {
    "name": "ipython",
    "version": 3
   },
   "file_extension": ".py",
   "mimetype": "text/x-python",
   "name": "python",
   "nbconvert_exporter": "python",
   "pygments_lexer": "ipython3",
   "version": "3.8.5"
  },
  "orig_nbformat": 4
 },
 "nbformat": 4,
 "nbformat_minor": 2
}
