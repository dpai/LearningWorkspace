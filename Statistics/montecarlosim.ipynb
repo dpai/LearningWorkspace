{
 "cells": [
  {
   "cell_type": "markdown",
   "metadata": {},
   "source": [
    "#### First lets start with a coin flips."
   ]
  },
  {
   "cell_type": "markdown",
   "metadata": {},
   "source": [
    "The below method should simulate coin flips with a probability of heads given by p"
   ]
  },
  {
   "cell_type": "code",
   "execution_count": 9,
   "metadata": {},
   "outputs": [],
   "source": [
    "import random\n",
    "import math\n",
    "import numpy as np\n",
    "import pandas as pd\n",
    "import matplotlib.pyplot as plt\n",
    "%matplotlib inline"
   ]
  },
  {
   "cell_type": "code",
   "execution_count": 3,
   "metadata": {},
   "outputs": [
    {
     "data": {
      "text/plain": [
       "array([ 4.41, 16.81, 37.21])"
      ]
     },
     "execution_count": 3,
     "metadata": {},
     "output_type": "execute_result"
    }
   ],
   "source": [
    "l = [2.1,4.1,6.1]\n",
    "np.power(l,2)"
   ]
  },
  {
   "cell_type": "code",
   "execution_count": 4,
   "metadata": {},
   "outputs": [],
   "source": [
    "def coinflip(p=0.5):\n",
    "    value = random.random()\n",
    "    return value > p"
   ]
  },
  {
   "cell_type": "markdown",
   "metadata": {},
   "source": [
    "Flip coin 5 times"
   ]
  },
  {
   "cell_type": "code",
   "execution_count": 5,
   "metadata": {},
   "outputs": [
    {
     "name": "stdout",
     "output_type": "stream",
     "text": [
      "Coin flipped and came up Tails\n",
      "Coin flipped and came up Heads\n",
      "Coin flipped and came up Heads\n",
      "Coin flipped and came up Heads\n",
      "Coin flipped and came up Tails\n"
     ]
    }
   ],
   "source": [
    "flip_value = {0: 'Tails', 1: 'Heads'}\n",
    "for i in range(5):\n",
    "    print(f\"Coin flipped and came up {flip_value[coinflip()]}\")"
   ]
  },
  {
   "cell_type": "markdown",
   "metadata": {},
   "source": [
    "For a fair coin, when we flip a coin many times, the probability of coming up heads or tails is the same. We can plot this distribution as shown below."
   ]
  },
  {
   "cell_type": "code",
   "execution_count": 35,
   "metadata": {},
   "outputs": [],
   "source": [
    "def plotdistribution(data, x_pos):\n",
    "    fig, ax = plt.subplots()\n",
    "    freqs = np.bincount(data)\n",
    "    x_range = np.arange(len(x_pos))\n",
    "\n",
    "    ax.bar(x_range, freqs, align='center', alpha=0.5)\n",
    "    ax.set_ylabel('Outcomes')\n",
    "    ax.set_xticks(x_range)\n",
    "    ax.set_xticklabels(x_pos)\n",
    "    ax.set_title('Outcome Distribution')\n",
    "    ax.yaxis.grid(True)\n",
    "\n",
    "    # Save the figure and show\n",
    "    plt.tight_layout()\n",
    "    #plt.savefig('bar_plot.png')\n",
    "    plt.show()"
   ]
  },
  {
   "cell_type": "code",
   "execution_count": 37,
   "metadata": {},
   "outputs": [
    {
     "data": {
      "image/png": "[encoded data removed]",
      "text/plain": [
       "<Figure size 432x288 with 1 Axes>"
      ]
     },
     "metadata": {
      "needs_background": "light"
     },
     "output_type": "display_data"
    }
   ],
   "source": [
    "coin_flip_data = np.asarray([coinflip() for x in range(1000)])\n",
    "plotdistribution(coin_flip_data, ['Tails', 'Heads'])\n"
   ]
  },
  {
   "cell_type": "markdown",
   "metadata": {},
   "source": []
  },
  {
   "cell_type": "markdown",
   "metadata": {},
   "source": [
    "Here I given the number of trials just retrieve the likelihood distribution"
   ]
  },
  {
   "cell_type": "code",
   "execution_count": 5,
   "metadata": {},
   "outputs": [],
   "source": [
    "def likelihood(nTrials, nSuccess, resolution=100):\n",
    "    '''\n",
    "        nTrials is the number of experiments (e.g. number of coin flips)\n",
    "        nSuccess is the number of success (e.g. number of heads in nTrials)\n",
    "        returns a likelihood distribution - a dataframe of values for p -> [0,1], where p is the probability of success. \n",
    "    '''\n",
    "\n",
    "    if nSuccess > nTrials:\n",
    "        return \"Wrong Input\"\n",
    "\n",
    "    p_range = np.linspace(0, 1, resolution)\n",
    "    event_probability = np.multiply(np.power(p_range, nSuccess), np.power((1-p_range), nTrials-nSuccess))\n",
    "    denom = math.factorial(nTrials-nSuccess)*math.factorial(nSuccess)\n",
    "    number_of_outcomes = math.factorial(nTrials)/denom\n",
    "    l = np.multiply(event_probability,number_of_outcomes)\n",
    "    return pd.DataFrame({'p':p_range, 'likelihood': l})"
   ]
  },
  {
   "cell_type": "markdown",
   "metadata": {},
   "source": [
    "Plot the likelihood distribution"
   ]
  },
  {
   "cell_type": "code",
   "execution_count": 6,
   "metadata": {},
   "outputs": [
    {
     "data": {
      "text/plain": [
       "<AxesSubplot:xlabel='p'>"
      ]
     },
     "execution_count": 6,
     "metadata": {},
     "output_type": "execute_result"
    },
    {
     "data": {
      "image/png": "[encoded data removed]",
      "text/plain": [
       "<Figure size 432x288 with 1 Axes>"
      ]
     },
     "metadata": {
      "needs_background": "light"
     },
     "output_type": "display_data"
    }
   ],
   "source": [
    "lik_dist = likelihood(20,18, resolution=100)\n",
    "#print(lik_dist)\n",
    "lik_dist.plot(x ='p', y='likelihood', kind = 'line')"
   ]
  }
 ],
 "metadata": {
  "interpreter": {
   "hash": "21e3188f1d0ae852f8995cdbe1a54ed8660e1a0af38b695474eedb5b27d2bb2d"
  },
  "kernelspec": {
   "display_name": "Python 3.8.5 64-bit ('LeraningWorkspace-sKozbfXX': pipenv)",
   "language": "python",
   "name": "python3"
  },
  "language_info": {
   "codemirror_mode": {
    "name": "ipython",
    "version": 3
   },
   "file_extension": ".py",
   "mimetype": "text/x-python",
   "name": "python",
   "nbconvert_exporter": "python",
   "pygments_lexer": "ipython3",
   "version": "3.8.12"
  },
  "orig_nbformat": 4
 },
 "nbformat": 4,
 "nbformat_minor": 2
}
